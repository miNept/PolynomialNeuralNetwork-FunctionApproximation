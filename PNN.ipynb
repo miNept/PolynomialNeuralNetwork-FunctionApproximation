{
 "cells": [
  {
   "cell_type": "code",
   "execution_count": 1,
   "metadata": {},
   "outputs": [],
   "source": [
    "import numpy as np\n",
    "from torchvision import transforms\n",
    "import torch\n",
    "import torch.nn as nn\n",
    "from torch import optim\n",
    "from torchvision.datasets import MNIST\n",
    "from torch.utils.data import DataLoader, Dataset\n",
    "import time\n",
    "device = torch.device('cuda' if torch.cuda.is_available() else 'cpu')\n",
    "device = torch.device('cpu')"
   ]
  },
  {
   "cell_type": "code",
   "execution_count": 2,
   "metadata": {},
   "outputs": [
    {
     "name": "stdout",
     "output_type": "stream",
     "text": [
      "(tensor([34., 89.]), tensor([95.2733]))\n"
     ]
    }
   ],
   "source": [
    "class CustomDataset(Dataset): \n",
    "    def __init__(self):\n",
    "        self.x_data = np.random.randint(1,100,size=(10000,2))\n",
    "        #self.x_data = np.concatenate([self.x_data, self.x_data**2], axis = -1)\n",
    "        self.y_data = np.sqrt(self.x_data[:,-1]**2 + self.x_data[:,-2]**2)\n",
    "        self.y_data = self.y_data.reshape(-1,1)\n",
    "\n",
    "  # 총 데이터의 개수를 리턴\n",
    "    def __len__(self): \n",
    "        return len(self.x_data)\n",
    "\n",
    "  # 인덱스를 입력받아 그에 맵핑되는 입출력 데이터를 파이토치의 Tensor 형태로 리턴\n",
    "    def __getitem__(self, idx): \n",
    "        x = torch.FloatTensor(self.x_data[idx])\n",
    "        y = torch.FloatTensor(self.y_data[idx])\n",
    "        return x, y\n",
    "    \n",
    "train_dataset = CustomDataset()\n",
    "print(train_dataset.__getitem__(0))\n",
    "batch_size = 64\n",
    "train_loader = DataLoader(train_dataset, batch_size = batch_size)\n",
    "total_len = len(train_loader)"
   ]
  },
  {
   "cell_type": "code",
   "execution_count": 3,
   "metadata": {},
   "outputs": [],
   "source": [
    "class MNISTNet(nn.Module):\n",
    "    \n",
    "    def __init__(self):\n",
    "        super(MNISTNet, self).__init__()\n",
    "        self.linear1 = nn.Linear(2,64)\n",
    "        self.linear2 = nn.Linear(64,1)\n",
    "        self.linear3 = nn.Linear(4,1)\n",
    "        \n",
    "    def forward(self, X):\n",
    "        '''\n",
    "        func = [torch.sqrt, torch.sigmoid,torch.tanh]\n",
    "        out = F.relu(self.linear1(X))\n",
    "        \n",
    "        new_out = torch.zeros(out.shape)\n",
    "        for i in range(3):\n",
    "            new_out[i] = func[i](out[i])\n",
    "            '''\n",
    "        out = torch.relu(self.linear1(X))\n",
    "        return self.linear2(out)\n",
    "\n",
    "def train(model, train_set, optimizer1, criterion, total_len):\n",
    "    total_cost = 0\n",
    "    l = np.linspace(0,total_len,10)\n",
    "    l_idx = 0\n",
    "    for batch_idx, (data, target) in enumerate(train_set):\n",
    "        if batch_idx >= l[l_idx]:\n",
    "            print('-', end='')\n",
    "            l_idx+=1\n",
    "        optimizer1.zero_grad()\n",
    "        output = model(data.to(device))\n",
    "        loss = criterion(output, target.to(device))\n",
    "        total_cost += loss\n",
    "        loss.backward()\n",
    "        optimizer1.step()\n",
    "    print('>', end='')\n",
    "    print('    loss :',total_cost.item(), end='\\n')\n",
    "\n",
    "model = MNISTNet()"
   ]
  },
  {
   "cell_type": "code",
   "execution_count": 6,
   "metadata": {},
   "outputs": [
    {
     "name": "stdout",
     "output_type": "stream",
     "text": [
      "--------->    loss : 0.6725348234176636\n",
      "--------->    loss : 0.5960959196090698\n",
      "--------->    loss : 0.5627841353416443\n",
      "--------->    loss : 0.5264521241188049\n",
      "--------->    loss : 0.49640953540802\n",
      "--------->    loss : 0.47023630142211914\n",
      "--------->    loss : 0.4465523064136505\n",
      "--------->    loss : 0.425555020570755\n",
      "--------->    loss : 0.4074619710445404\n",
      "--------->    loss : 0.3918375074863434\n",
      "--------->    loss : 0.3777654767036438\n",
      "--------->    loss : 0.36477962136268616\n",
      "--------->    loss : 0.3527860641479492\n",
      "--------->    loss : 0.3414049446582794\n",
      "--------->    loss : 0.3308000862598419\n",
      "--------->    loss : 0.3207862973213196\n",
      "--------->    loss : 0.3117416501045227\n",
      "--------->    loss : 0.30344873666763306\n",
      "--------->    loss : 0.2958031892776489\n",
      "--------->    loss : 0.2888300120830536\n"
     ]
    }
   ],
   "source": [
    "\n",
    "optimizer1 = optim.Adam(model.parameters(), lr = 0.0001)\n",
    "#optimizer2 = optim.Adam(model.linear2(), lr = 0.005)\n",
    "criterion = nn.MSELoss()\n",
    "for epoch in range(20):\n",
    "    train(model, train_loader, optimizer1, criterion, total_len)"
   ]
  },
  {
   "cell_type": "code",
   "execution_count": 8,
   "metadata": {},
   "outputs": [
    {
     "data": {
      "text/plain": [
       "Parameter containing:\n",
       "tensor([[-0.5227, -0.2993],\n",
       "        [-0.5438, -0.5445],\n",
       "        [-0.2920, -0.1460],\n",
       "        [-0.3656,  0.4551],\n",
       "        [-0.3003,  0.1572],\n",
       "        [-0.1821,  0.3038],\n",
       "        [ 0.4412, -0.0764],\n",
       "        [ 0.0038,  0.4060],\n",
       "        [ 0.3617,  0.2714],\n",
       "        [ 0.5324,  0.3585],\n",
       "        [-0.7865,  0.1911],\n",
       "        [ 0.6071,  0.2643],\n",
       "        [ 0.4126, -0.7363],\n",
       "        [-0.5669, -0.0430],\n",
       "        [-0.3795, -0.6892],\n",
       "        [-0.5446,  0.2007],\n",
       "        [-0.4093,  0.0067],\n",
       "        [-0.1745,  0.5521],\n",
       "        [ 0.7463,  0.3766],\n",
       "        [ 0.2530, -0.5248],\n",
       "        [-0.2588, -0.0946],\n",
       "        [ 0.2255, -0.2929],\n",
       "        [ 0.5103, -0.5507],\n",
       "        [-0.4249, -0.6645],\n",
       "        [ 0.6538, -0.6098],\n",
       "        [-0.5030,  0.3887],\n",
       "        [ 0.2756,  0.6308],\n",
       "        [ 0.6383,  0.7118],\n",
       "        [ 0.5586, -0.4196],\n",
       "        [ 0.3965,  0.0634],\n",
       "        [-0.1060, -0.1940],\n",
       "        [-0.2356, -0.0215],\n",
       "        [-0.6681,  0.3624],\n",
       "        [ 0.3963,  0.7138],\n",
       "        [ 0.3690, -0.0027],\n",
       "        [ 0.1910,  0.3994],\n",
       "        [-0.5220, -0.0428],\n",
       "        [-0.0823,  0.5948],\n",
       "        [ 0.2829,  0.7364],\n",
       "        [-0.2461, -0.3051],\n",
       "        [ 0.3591,  0.3159],\n",
       "        [-0.3541, -0.2488],\n",
       "        [-0.5418, -0.6540],\n",
       "        [-0.1919,  0.2378],\n",
       "        [ 0.7845, -0.1066],\n",
       "        [-0.1653, -0.2798],\n",
       "        [-0.4496,  0.6407],\n",
       "        [ 0.4500, -0.5049],\n",
       "        [ 0.0077, -0.3687],\n",
       "        [ 0.6198,  0.3911],\n",
       "        [-0.2096,  0.5021],\n",
       "        [-0.4828, -0.1420],\n",
       "        [-0.2747,  0.2655],\n",
       "        [ 0.2706, -0.5771],\n",
       "        [-0.4339, -0.4200],\n",
       "        [ 0.5865,  0.1374],\n",
       "        [-0.6870,  0.0087],\n",
       "        [-0.4776,  0.3160],\n",
       "        [-0.6183, -0.4064],\n",
       "        [ 0.5914, -0.1086],\n",
       "        [-0.3494, -0.2747],\n",
       "        [ 0.1634, -0.7603],\n",
       "        [-0.2316,  0.4269],\n",
       "        [-0.3840, -0.3230]], requires_grad=True)"
      ]
     },
     "execution_count": 8,
     "metadata": {},
     "output_type": "execute_result"
    }
   ],
   "source": [
    "model.linear1.weight"
   ]
  },
  {
   "cell_type": "code",
   "execution_count": 9,
   "metadata": {},
   "outputs": [
    {
     "name": "stdout",
     "output_type": "stream",
     "text": [
      "tensor([997345.5625], grad_fn=<AddBackward0>) 1000000.0002\n"
     ]
    }
   ],
   "source": [
    "import torch.nn.functional as F\n",
    "\n",
    "model.eval()\n",
    "x = 1000000\n",
    "y = 20\n",
    "output = model(torch.FloatTensor([x,y]))\n",
    "print(output, np.sqrt(x**2+y**2))"
   ]
  },
  {
   "cell_type": "code",
   "execution_count": null,
   "metadata": {},
   "outputs": [],
   "source": []
  }
 ],
 "metadata": {
  "kernelspec": {
   "display_name": "Python 3",
   "language": "python",
   "name": "python3"
  },
  "language_info": {
   "codemirror_mode": {
    "name": "ipython",
    "version": 3
   },
   "file_extension": ".py",
   "mimetype": "text/x-python",
   "name": "python",
   "nbconvert_exporter": "python",
   "pygments_lexer": "ipython3",
   "version": "3.7.9"
  }
 },
 "nbformat": 4,
 "nbformat_minor": 4
}
