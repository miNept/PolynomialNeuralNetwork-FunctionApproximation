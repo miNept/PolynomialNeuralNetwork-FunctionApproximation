{
 "cells": [
  {
   "cell_type": "code",
   "execution_count": 1,
   "metadata": {},
   "outputs": [],
   "source": [
    "import numpy as np\n",
    "from torchvision import transforms\n",
    "import torch\n",
    "import torch.nn as nn\n",
    "from torch import optim\n",
    "from torchvision.datasets import MNIST\n",
    "from torch.autograd import Variable\n",
    "from torch.utils.data import DataLoader, Dataset\n",
    "import time\n",
    "device = torch.device('cuda' if torch.cuda.is_available() else 'cpu')\n",
    "device = torch.device('cpu')"
   ]
  },
  {
   "cell_type": "code",
   "execution_count": 15,
   "metadata": {},
   "outputs": [
    {
     "name": "stdout",
     "output_type": "stream",
     "text": [
      "(tensor([  71., 5041.]), tensor([10083.]))\n"
     ]
    }
   ],
   "source": [
    "class CustomDataset(Dataset): \n",
    "    def __init__(self):\n",
    "        self.x_data = np.random.randint(1,100,size=(10000,1))\n",
    "        self.x_data = np.concatenate([self.x_data, self.x_data**2], axis = -1)\n",
    "        self.y_data = self.x_data[:,-1]*2 + 1\n",
    "        self.y_data = self.y_data.reshape(-1,1)\n",
    "\n",
    "  # 총 데이터의 개수를 리턴\n",
    "    def __len__(self): \n",
    "        return len(self.x_data)\n",
    "\n",
    "  # 인덱스를 입력받아 그에 맵핑되는 입출력 데이터를 파이토치의 Tensor 형태로 리턴\n",
    "    def __getitem__(self, idx): \n",
    "        x = torch.FloatTensor(self.x_data[idx])\n",
    "        y = torch.FloatTensor(self.y_data[idx])\n",
    "        return x, y\n",
    "    \n",
    "train_dataset = CustomDataset()\n",
    "print(train_dataset.__getitem__(0))\n",
    "batch_size = 64\n",
    "train_loader = DataLoader(train_dataset, batch_size = batch_size, drop_last=True)\n",
    "total_len = len(train_loader)"
   ]
  },
  {
   "cell_type": "code",
   "execution_count": 21,
   "metadata": {},
   "outputs": [],
   "source": [
    "class MNISTNet(nn.Module):\n",
    "    \n",
    "    def __init__(self, batch_size):\n",
    "        super(MNISTNet, self).__init__()\n",
    "        self.linear1 = nn.Linear(2,1)\n",
    "        \n",
    "    def forward(self, X):\n",
    "        return self.linear1(X)\n",
    "\n",
    "def train(model, train_set, optimizer1, criterion, total_len):\n",
    "    total_cost = 0\n",
    "    l = np.linspace(0,total_len,10)\n",
    "    l_idx = 0\n",
    "    for batch_idx, (data, target) in enumerate(train_set):\n",
    "        if batch_idx >= l[l_idx]:\n",
    "            print('-', end='')\n",
    "            l_idx+=1\n",
    "        optimizer1.zero_grad()\n",
    "        output = model(data.to(device))\n",
    "        loss = criterion(output, target.to(device))\n",
    "        total_cost += loss\n",
    "        loss.backward()\n",
    "        optimizer1.step()\n",
    "        \n",
    "    print('>', end='')\n",
    "    print('    loss :',total_cost.item(), end='\\n')\n",
    "\n",
    "model = MNISTNet(batch_size)"
   ]
  },
  {
   "cell_type": "code",
   "execution_count": 30,
   "metadata": {},
   "outputs": [
    {
     "name": "stdout",
     "output_type": "stream",
     "text": [
      "--------->    loss : 85.71954345703125\n",
      "--------->    loss : 1.232811689376831\n",
      "--------->    loss : 1.174411416053772\n",
      "--------->    loss : 1.1042791604995728\n",
      "--------->    loss : 0.9587013125419617\n",
      "--------->    loss : 0.8840550780296326\n",
      "--------->    loss : 0.7667635679244995\n",
      "--------->    loss : 0.8660120964050293\n",
      "--------->    loss : 0.7234184741973877\n",
      "--------->    loss : 1.2757034301757812\n"
     ]
    }
   ],
   "source": [
    "\n",
    "optimizer1 = optim.Adam(model.parameters(), lr = 0.001)\n",
    "#optimizer2 = optim.Adam(model.linear2(), lr = 0.005)\n",
    "criterion = nn.MSELoss()\n",
    "for epoch in range(10):\n",
    "    train(model, train_loader, optimizer1, criterion, total_len)"
   ]
  },
  {
   "cell_type": "code",
   "execution_count": 31,
   "metadata": {},
   "outputs": [
    {
     "data": {
      "text/plain": [
       "Parameter containing:\n",
       "tensor([[0.0056, 1.9999]], requires_grad=True)"
      ]
     },
     "execution_count": 31,
     "metadata": {},
     "output_type": "execute_result"
    }
   ],
   "source": [
    "model.linear1.weight"
   ]
  },
  {
   "cell_type": "code",
   "execution_count": 308,
   "metadata": {},
   "outputs": [
    {
     "data": {
      "text/plain": [
       "tensor([4401.1890], grad_fn=<AddBackward0>)"
      ]
     },
     "execution_count": 308,
     "metadata": {},
     "output_type": "execute_result"
    }
   ],
   "source": [
    "import torch.nn.functional as F\n",
    "\n",
    "model.eval()\n",
    "x = 30000\n",
    "y = 32051\n",
    "output = model(torch.FloatTensor([x,y]))\n",
    "print(output, np.sqrt(x**2+y**2))"
   ]
  },
  {
   "cell_type": "code",
   "execution_count": null,
   "metadata": {},
   "outputs": [],
   "source": []
  }
 ],
 "metadata": {
  "kernelspec": {
   "display_name": "Python 3",
   "language": "python",
   "name": "python3"
  },
  "language_info": {
   "codemirror_mode": {
    "name": "ipython",
    "version": 3
   },
   "file_extension": ".py",
   "mimetype": "text/x-python",
   "name": "python",
   "nbconvert_exporter": "python",
   "pygments_lexer": "ipython3",
   "version": "3.7.9"
  }
 },
 "nbformat": 4,
 "nbformat_minor": 4
}
